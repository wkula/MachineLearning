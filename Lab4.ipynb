{
 "cells": [
  {
   "cell_type": "markdown",
   "source": [
    "### Ex 1\n",
    "fit the sigmoid curve and calculate decision boundary using given dataset\n",
    "\n",
    "a cheat sheet:\n",
    "\n",
    "in an optimization loop\n",
    "first calculate hypothesis for each datapoint x in X: $h = \\frac{1}{1 + exp(-\\theta_0-\\theta_1*x)}$\n",
    "then calculate crossentropy: $-y\\cdot log(h) - (1-y)\\cdot log(1-h)$\n",
    "and cost: $\\frac{sum(crossentropy)}{len(x)}$\n",
    "\n",
    "next calculate derivatives for $\\theta_0$ and $\\theta_1$ (similar to those in linear regression)\n",
    "$\\theta_0\\_deriv = \\frac{sum(h - y)}{len(y)}, \\theta_1\\_deriv = sum((h-y)*X)$\n",
    "and then update theta weights\n",
    "$\\theta = \\theta - lr*\\theta\\_deriv$\n",
    "\n",
    "check if cost is getting lower through iterations\n",
    "if not, try to modify the learning rate\n",
    "\n",
    "calculating decision boundary might look like this:\n",
    "\n",
    "$\\theta[0] + \\theta[1]*x = 0$\n",
    "\n",
    "$\\theta[1]*x = -\\theta[0]$\n",
    "\n",
    "$x = \\frac{-\\theta[0]}{\\theta[1]}$\n",
    "\n",
    "the result might look like below"
   ],
   "metadata": {
    "collapsed": false,
    "pycharm": {
     "name": "#%% md\n"
    }
   }
  },
  {
   "cell_type": "code",
   "execution_count": 1,
   "outputs": [],
   "source": [
    "from matplotlib import pyplot as plt\n",
    "import numpy as np\n",
    "\n",
    "X = np.array([[1, 1, 1, 1, 1, 1, 1, 1, 1,  1,  1],\n",
    "              [1, 2, 3, 4, 5, 6, 7, 8, 9, 15, 25]], dtype=np.float32)\n",
    "y = np.array([[0, 0, 0, 0, 0, 0, 1, 1, 1,  1,  1]], dtype=np.float32)\n",
    "\n",
    "\n",
    "theta = np.array([0.,0.])"
   ],
   "metadata": {
    "collapsed": false,
    "pycharm": {
     "name": "#%%\n"
    }
   }
  },
  {
   "cell_type": "markdown",
   "source": [
    "#### optimization loop"
   ],
   "metadata": {
    "collapsed": false,
    "pycharm": {
     "name": "#%% md\n"
    }
   }
  },
  {
   "cell_type": "code",
   "execution_count": 2,
   "outputs": [],
   "source": [
    "max_iter = 10000\n",
    "alpha = 0.1\n",
    "\n",
    "def computeCost(x_compute_cost, y_compute_cost, theta_compute_cost):\n",
    "    h_compute_cost = 1 / (1 + np.exp(-x_compute_cost@theta_compute_cost.T))\n",
    "    crossentropy_compute_cost = -y_compute_cost.T*np.log(h_compute_cost + 0.00001) - \\\n",
    "                                (1 - y_compute_cost.T)*\\\n",
    "                                np.log(1 - h_compute_cost + 0.00001)\n",
    "    cost_compute_cost = sum(crossentropy_compute_cost.T) / len(x_compute_cost)\n",
    "    return cost_compute_cost\n",
    "\n",
    "def gradient_prosty(x_grad, y_grad, theta_grad, alpha_grad, it_grad, eps=0.00001):\n",
    "    cost_grad = list()\n",
    "    cost_grad.append(computeCost(x_grad, y_grad, theta_grad))\n",
    "    for _ in range(it_grad):\n",
    "        for i in range(theta_grad.shape[0]):\n",
    "            h = 1 / (1 + np.exp(-x_grad@theta_grad.T))\n",
    "            diff = np.array([d1 - d2 for d1, d2 in zip(h, y_grad)])\n",
    "            theta_grad[i] -= alpha_grad * diff.T @ x_grad[:,i]/len(y_grad)\n",
    "        cost_grad.append(computeCost(x_grad, y_grad, theta_grad))\n",
    "        if np.abs(cost_grad[-2] - cost_grad[-1]) < eps:\n",
    "            break\n",
    "    return theta_grad, cost_grad\n"
   ],
   "metadata": {
    "collapsed": false,
    "pycharm": {
     "name": "#%%\n"
    }
   }
  },
  {
   "cell_type": "code",
   "execution_count": 3,
   "outputs": [
    {
     "name": "stdout",
     "output_type": "stream",
     "text": [
      "[-9.85292053  1.54052544]\n"
     ]
    }
   ],
   "source": [
    "theta_opt, cost = gradient_prosty(X.T, y.T, theta, alpha, max_iter)\n",
    "\n",
    "print(theta_opt)\n"
   ],
   "metadata": {
    "collapsed": false,
    "pycharm": {
     "name": "#%%\n"
    }
   }
  },
  {
   "cell_type": "code",
   "execution_count": 4,
   "outputs": [
    {
     "data": {
      "text/plain": "[<matplotlib.lines.Line2D at 0x7ff733893850>]"
     },
     "execution_count": 4,
     "metadata": {},
     "output_type": "execute_result"
    },
    {
     "data": {
      "text/plain": "<Figure size 504x288 with 1 Axes>",
      "image/png": "[encoded data removed]"
     },
     "metadata": {
      "needs_background": "light"
     },
     "output_type": "display_data"
    }
   ],
   "source": [
    "fig, ax = plt.subplots(1, 1, figsize=(7,4))\n",
    "ax.scatter(X[1], y)\n",
    "\n",
    "x_samples = np.ones((X.shape[0], 100))\n",
    "x_tmp = np.linspace(min(X[1,:]), max(X[1,:]), 100)\n",
    "x_samples[1] = x_tmp\n",
    "y_samples = 1 / (1 + np.exp(-x_samples.T@theta_opt))\n",
    "\n",
    "x_split = -theta_opt[0]/theta_opt[1]\n",
    "\n",
    "ax.plot(x_tmp, y_samples)\n",
    "ax.plot(np.linspace(x_split, x_split, 10), np.linspace(0,1,10))"
   ],
   "metadata": {
    "collapsed": false,
    "pycharm": {
     "name": "#%%\n"
    }
   }
  },
  {
   "cell_type": "markdown",
   "source": [
    "### Ex2\n",
    "\n",
    "generalize optimization code for X being a matrix, where its rows are features and columns are examples\n",
    "code should work independently from number of features and number of examples\n",
    "use matrix multiplication (np.matmul or @)\n",
    "plot decision boundary on a plot x2(x1)\n",
    "calculating decision boundary might look like this:\n",
    "\n",
    "$\\theta_0 + \\theta_1x_1 + \\theta_2x_2 = 0$\n",
    "\n",
    "$\\theta_2x_2 = -\\theta_0 - \\theta_1x_1$\n",
    "\n",
    "$x_2 = \\frac{-\\theta_0}{\\theta_2} - \\frac{\\theta_1}{\\theta_2}  x_1$"
   ],
   "metadata": {
    "collapsed": false,
    "pycharm": {
     "name": "#%% md\n"
    }
   }
  },
  {
   "cell_type": "code",
   "execution_count": 5,
   "outputs": [],
   "source": [
    "X = np.array([[ 1, 1, 1, 1, 1, 1, 1, 1, 1,  1,  1], # bias' 'variables' already appended to X\n",
    "              [ 1, 2, 3, 4, 5, 6, 7, 8, 9, 15, 25],\n",
    "              [13, 9, 8, 6, 4, 2, 1, 0, 3,  4,  2]], dtype=np.float32)\n",
    "y = np.array([0, 0, 0, 0, 0, 0, 1, 1, 1,  1,  1], dtype=np.float32)\n",
    "\n",
    "theta = np.array([0.,0.,0.])\n"
   ],
   "metadata": {
    "collapsed": false,
    "pycharm": {
     "name": "#%%\n"
    }
   }
  },
  {
   "cell_type": "code",
   "source": [
    "theta_opt, cost = gradient_prosty(X.T, y.T, theta, alpha, max_iter)\n",
    "\n",
    "print(theta_opt)"
   ],
   "metadata": {
    "collapsed": false,
    "pycharm": {
     "name": "#%%\n"
    }
   },
   "execution_count": 6,
   "outputs": [
    {
     "name": "stdout",
     "output_type": "stream",
     "text": [
      "[-4.67052962  1.656675   -2.9740792 ]\n"
     ]
    }
   ]
  },
  {
   "cell_type": "code",
   "execution_count": 8,
   "outputs": [
    {
     "data": {
      "text/plain": "[<matplotlib.lines.Line2D at 0x7ff732d02d90>]"
     },
     "execution_count": 8,
     "metadata": {},
     "output_type": "execute_result"
    },
    {
     "data": {
      "text/plain": "<Figure size 504x288 with 1 Axes>",
      "image/png": "[encoded data removed]"
     },
     "metadata": {
      "needs_background": "light"
     },
     "output_type": "display_data"
    }
   ],
   "source": [
    "x1 = np.linspace(np.min(X[1, :]), np.max(X[1, :]), 100)\n",
    "x2 = -theta[0]/theta[2] - theta[1]/theta[2] * x1\n",
    "\n",
    "X_positive = X.T[y == 1,:]\n",
    "X_negative = X.T[y == 0,:]\n",
    "\n",
    "fig, ax = plt.subplots(1, 1, figsize=(7,4))\n",
    "ax.plot(X_positive[:, 1], X_positive[:, 2], '+')\n",
    "ax.plot(X_negative[:, 1], X_negative[:, 2], 'o')\n",
    "ax.plot(x1, x2, '-')"
   ],
   "metadata": {
    "collapsed": false,
    "pycharm": {
     "name": "#%%\n"
    }
   }
  },
  {
   "cell_type": "markdown",
   "source": [
    "### Ex3\n",
    "\n",
    "using real data, optimize classifier to predict given values\n",
    "\n",
    "split dataset into a training set and a test set\n",
    "train model on the training set\n",
    "calculate TP, FP, TN, FN on test set\n",
    "calculate sensitivity, specificity, positive predictivity and negative predictivity"
   ],
   "metadata": {
    "collapsed": false,
    "pycharm": {
     "name": "#%% md\n"
    }
   }
  },
  {
   "cell_type": "code",
   "execution_count": 9,
   "outputs": [
    {
     "data": {
      "text/plain": "array([[30.28671077, 43.89499752,  0.        ],\n       [35.84740877, 72.90219803,  0.        ],\n       [60.18259939, 86.3085521 ,  1.        ],\n       [79.03273605, 75.34437644,  1.        ],\n       [45.08327748, 56.31637178,  0.        ],\n       [61.10666454, 96.51142588,  1.        ],\n       [75.02474557, 46.55401354,  1.        ],\n       [76.0987867 , 87.42056972,  1.        ],\n       [84.43281996, 43.53339331,  1.        ],\n       [95.86155507, 38.22527806,  0.        ],\n       [75.01365839, 30.60326323,  0.        ],\n       [82.30705337, 76.4819633 ,  1.        ],\n       [69.36458876, 97.71869196,  1.        ],\n       [39.53833914, 76.03681085,  0.        ],\n       [53.97105215, 89.20735014,  1.        ],\n       [69.07014406, 52.74046973,  1.        ],\n       [67.94685548, 46.67857411,  0.        ],\n       [70.66150955, 92.92713789,  1.        ],\n       [76.97878373, 47.57596365,  1.        ],\n       [67.37202755, 42.83843832,  0.        ],\n       [89.67677575, 65.79936593,  1.        ],\n       [50.53478829, 48.85581153,  0.        ],\n       [34.21206098, 44.2095286 ,  0.        ],\n       [77.92409145, 68.97235999,  1.        ],\n       [62.27101367, 69.95445795,  1.        ],\n       [80.19018075, 44.82162893,  1.        ],\n       [93.1143888 , 38.80067034,  0.        ],\n       [61.83020602, 50.25610789,  0.        ],\n       [38.7858038 , 64.99568096,  0.        ],\n       [61.37928945, 72.80788731,  1.        ],\n       [85.40451939, 57.05198398,  1.        ],\n       [52.10797973, 63.12762377,  0.        ],\n       [52.04540477, 69.43286012,  1.        ],\n       [40.23689374, 71.16774802,  0.        ],\n       [54.63510555, 52.21388588,  0.        ],\n       [33.91550011, 98.86943574,  0.        ],\n       [64.17698887, 80.90806059,  1.        ],\n       [74.78925296, 41.57341523,  0.        ],\n       [34.18364003, 75.23772034,  0.        ],\n       [83.90239366, 56.30804622,  1.        ],\n       [51.54772027, 46.85629026,  0.        ],\n       [94.44336777, 65.56892161,  1.        ],\n       [82.36875376, 40.61825516,  0.        ],\n       [51.04775177, 45.82270146,  0.        ],\n       [62.22267576, 52.06099195,  0.        ],\n       [77.19303493, 70.4582    ,  1.        ],\n       [97.77159928, 86.72782233,  1.        ],\n       [62.0730638 , 96.76882412,  1.        ],\n       [91.5649745 , 88.69629255,  1.        ],\n       [79.94481794, 74.16311935,  1.        ],\n       [99.27252693, 60.999031  ,  1.        ],\n       [90.54671411, 43.39060181,  1.        ],\n       [34.52451385, 60.39634246,  0.        ],\n       [50.28649612, 49.80453881,  0.        ],\n       [49.58667722, 59.80895099,  0.        ],\n       [97.64563396, 68.86157272,  1.        ],\n       [32.57720017, 95.59854761,  0.        ],\n       [74.24869137, 69.82457123,  1.        ],\n       [71.79646206, 78.45356225,  1.        ],\n       [75.39561147, 85.75993667,  1.        ],\n       [35.28611282, 47.02051395,  0.        ],\n       [56.2538175 , 39.26147251,  0.        ],\n       [30.05882245, 49.59297387,  0.        ],\n       [44.66826172, 66.45008615,  0.        ],\n       [66.56089447, 41.09209808,  0.        ],\n       [40.45755098, 97.53518549,  1.        ],\n       [49.07256322, 51.88321182,  0.        ],\n       [80.27957401, 92.11606081,  1.        ],\n       [66.74671857, 60.99139403,  1.        ],\n       [32.72283304, 43.30717306,  0.        ],\n       [64.03932042, 78.03168802,  1.        ],\n       [72.34649423, 96.22759297,  1.        ],\n       [60.45788574, 73.0949981 ,  1.        ],\n       [58.84095622, 75.85844831,  1.        ],\n       [99.8278578 , 72.36925193,  1.        ],\n       [47.26426911, 88.475865  ,  1.        ],\n       [50.4581598 , 75.80985953,  1.        ],\n       [60.45555629, 42.50840944,  0.        ],\n       [82.22666158, 42.71987854,  0.        ],\n       [88.91389642, 69.8037889 ,  1.        ],\n       [94.83450672, 45.6943068 ,  1.        ],\n       [67.31925747, 66.58935318,  1.        ],\n       [57.23870632, 59.51428198,  1.        ],\n       [80.366756  , 90.9601479 ,  1.        ],\n       [68.46852179, 85.5943071 ,  1.        ],\n       [42.07545454, 78.844786  ,  0.        ],\n       [75.47770201, 90.424539  ,  1.        ],\n       [78.63542435, 96.64742717,  1.        ],\n       [52.34800399, 60.76950526,  0.        ],\n       [94.09433113, 77.15910509,  1.        ],\n       [90.44855097, 87.50879176,  1.        ],\n       [55.48216114, 35.57070347,  0.        ],\n       [74.49269242, 84.84513685,  1.        ],\n       [89.84580671, 45.35828361,  1.        ],\n       [83.48916274, 48.3802858 ,  1.        ],\n       [42.26170081, 87.10385094,  1.        ],\n       [99.31500881, 68.77540947,  1.        ],\n       [55.34001756, 64.93193801,  1.        ],\n       [74.775893  , 89.5298129 ,  1.        ]])"
     },
     "execution_count": 9,
     "metadata": {},
     "output_type": "execute_result"
    }
   ],
   "source": [
    "import pandas as pd\n",
    "\n",
    "data = pd.read_csv('./lab-2/lab-2/data.txt')\n",
    "data = data.values\n",
    "data"
   ],
   "metadata": {
    "collapsed": false,
    "pycharm": {
     "name": "#%%\n"
    }
   }
  },
  {
   "cell_type": "code",
   "execution_count": 14,
   "outputs": [
    {
     "data": {
      "text/plain": "array([0., 0., 0.])"
     },
     "execution_count": 14,
     "metadata": {},
     "output_type": "execute_result"
    }
   ],
   "source": [
    "X = np.ones((data.shape[1], data.shape[0]))\n",
    "X[1:3, :] = data[:, 0:2].T\n",
    "\n",
    "y = data[:, 2:3].T\n",
    "\n",
    "X[1, :] = (X[1, :] - np.std(X[1, :])) / np.mean(X[1, :])\n",
    "X[2, :] = (X[2, :] - np.std(X[2, :])) / np.mean(X[2, :])\n",
    "\n",
    "theta = np.array([0.,0.,0.])"
   ],
   "metadata": {
    "collapsed": false,
    "pycharm": {
     "name": "#%%\n"
    }
   }
  },
  {
   "cell_type": "code",
   "execution_count": 15,
   "outputs": [
    {
     "name": "stdout",
     "output_type": "stream",
     "text": [
      "[-6.63226072  5.37108002  5.09683459]\n"
     ]
    }
   ],
   "source": [
    "theta_opt, cost = gradient_prosty(X.T, y.T, theta, alpha, max_iter)\n",
    "\n",
    "print(theta_opt)"
   ],
   "metadata": {
    "collapsed": false,
    "pycharm": {
     "name": "#%%\n"
    }
   }
  },
  {
   "cell_type": "code",
   "execution_count": 20,
   "outputs": [
    {
     "data": {
      "text/plain": "[<matplotlib.lines.Line2D at 0x7ff72fc1a410>]"
     },
     "execution_count": 20,
     "metadata": {},
     "output_type": "execute_result"
    },
    {
     "data": {
      "text/plain": "<Figure size 504x288 with 1 Axes>",
      "image/png": "[encoded data removed]"
     },
     "metadata": {
      "needs_background": "light"
     },
     "output_type": "display_data"
    }
   ],
   "source": [
    "x1 = np.linspace(np.min(X[1, :]), np.max(X[1, :]), 100)\n",
    "x2 = -theta[0]/theta[2] - theta[1]/theta[2] * x1\n",
    "\n",
    "X_positive = X[:, y[0, :] == 1]\n",
    "X_negative = X[:, y[0, :] == 0]\n",
    "\n",
    "fig, ax = plt.subplots(1, 1, figsize=(7,4))\n",
    "ax.plot(X_positive[2, :], X_positive[1, :], '+')\n",
    "ax.plot(X_negative[2, :], X_negative[1, :], 'o')\n",
    "ax.plot(x1, x2, '-')"
   ],
   "metadata": {
    "collapsed": false,
    "pycharm": {
     "name": "#%%\n"
    }
   }
  },
  {
   "cell_type": "code",
   "execution_count": null,
   "outputs": [],
   "source": [],
   "metadata": {
    "collapsed": false,
    "pycharm": {
     "name": "#%%\n"
    }
   }
  }
 ],
 "metadata": {
  "kernelspec": {
   "display_name": "Python 3",
   "language": "python",
   "name": "python3"
  },
  "language_info": {
   "codemirror_mode": {
    "name": "ipython",
    "version": 2
   },
   "file_extension": ".py",
   "mimetype": "text/x-python",
   "name": "python",
   "nbconvert_exporter": "python",
   "pygments_lexer": "ipython2",
   "version": "2.7.6"
  }
 },
 "nbformat": 4,
 "nbformat_minor": 0
}